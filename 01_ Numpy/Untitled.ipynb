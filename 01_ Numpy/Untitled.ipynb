{
 "cells": [
  {
   "cell_type": "code",
   "execution_count": 1,
   "id": "658caee6",
   "metadata": {},
   "outputs": [],
   "source": [
    "import numpy as np"
   ]
  },
  {
   "cell_type": "code",
   "execution_count": 2,
   "id": "211ac8d8",
   "metadata": {},
   "outputs": [
    {
     "data": {
      "text/plain": [
       "array([0, 1, 2, 3, 4, 5, 6, 7, 8, 9])"
      ]
     },
     "execution_count": 2,
     "metadata": {},
     "output_type": "execute_result"
    }
   ],
   "source": [
    "arr_ran = np.arange(0,10,1)\n",
    "arr_ran"
   ]
  },
  {
   "cell_type": "code",
   "execution_count": 3,
   "id": "994a736b",
   "metadata": {},
   "outputs": [
    {
     "data": {
      "text/plain": [
       "numpy.ndarray"
      ]
     },
     "execution_count": 3,
     "metadata": {},
     "output_type": "execute_result"
    }
   ],
   "source": [
    "type(arr_ran)"
   ]
  },
  {
   "cell_type": "code",
   "execution_count": 4,
   "id": "d0e3edaa",
   "metadata": {},
   "outputs": [
    {
     "name": "stdout",
     "output_type": "stream",
     "text": [
      "Length: 9\n",
      "Size: 9\n"
     ]
    }
   ],
   "source": [
    "arr = np.array(range(1,10))\n",
    "print(\"Length:\",len(arr))\n",
    "print(\"Size:\",arr.size)"
   ]
  },
  {
   "cell_type": "code",
   "execution_count": 5,
   "id": "ab78a668",
   "metadata": {},
   "outputs": [
    {
     "name": "stdout",
     "output_type": "stream",
     "text": [
      "Length: 1\n",
      "Size: 9\n"
     ]
    }
   ],
   "source": [
    "arr = np.array([range(1,10)])\n",
    "print(\"Length:\",len(arr))\n",
    "print(\"Size:\",arr.size)"
   ]
  },
  {
   "cell_type": "code",
   "execution_count": 6,
   "id": "4b4f417b",
   "metadata": {},
   "outputs": [
    {
     "data": {
      "text/plain": [
       "80"
      ]
     },
     "execution_count": 6,
     "metadata": {},
     "output_type": "execute_result"
    }
   ],
   "source": [
    "arr = np.arange(10)\n",
    "arr.size*arr.itemsize"
   ]
  },
  {
   "cell_type": "code",
   "execution_count": 7,
   "id": "6651bb96",
   "metadata": {},
   "outputs": [
    {
     "data": {
      "text/plain": [
       "80"
      ]
     },
     "execution_count": 7,
     "metadata": {},
     "output_type": "execute_result"
    }
   ],
   "source": [
    "arr.nbytes"
   ]
  },
  {
   "cell_type": "code",
   "execution_count": 8,
   "id": "1e847e0d",
   "metadata": {},
   "outputs": [
    {
     "data": {
      "text/plain": [
       "array([[1, 2, 3, 4],\n",
       "       [5, 6, 7, 8]])"
      ]
     },
     "execution_count": 8,
     "metadata": {},
     "output_type": "execute_result"
    }
   ],
   "source": [
    "arr_2d = np.array([[1,2,3,4],[5,6,7,8]])\n",
    "arr_2d"
   ]
  },
  {
   "cell_type": "code",
   "execution_count": 9,
   "id": "2dcbca51",
   "metadata": {},
   "outputs": [
    {
     "data": {
      "text/plain": [
       "2"
      ]
     },
     "execution_count": 9,
     "metadata": {},
     "output_type": "execute_result"
    }
   ],
   "source": [
    "arr_2d.ndim"
   ]
  },
  {
   "cell_type": "code",
   "execution_count": 10,
   "id": "00f3a5e5",
   "metadata": {},
   "outputs": [
    {
     "data": {
      "text/plain": [
       "8"
      ]
     },
     "execution_count": 10,
     "metadata": {},
     "output_type": "execute_result"
    }
   ],
   "source": [
    "arr_2d.size"
   ]
  },
  {
   "cell_type": "code",
   "execution_count": 11,
   "id": "efb5fa7b",
   "metadata": {},
   "outputs": [
    {
     "data": {
      "text/plain": [
       "array([0.6369478 , 0.8461806 , 0.92844251, 0.09367267, 0.42237015,\n",
       "       0.84544694, 0.71481181, 0.29387779, 0.8829227 , 0.37207691])"
      ]
     },
     "execution_count": 11,
     "metadata": {},
     "output_type": "execute_result"
    }
   ],
   "source": [
    "n_arr = np.random.rand(10)\n",
    "n_arr"
   ]
  },
  {
   "cell_type": "code",
   "execution_count": 12,
   "id": "8e511f86",
   "metadata": {},
   "outputs": [
    {
     "data": {
      "text/plain": [
       "(10,)"
      ]
     },
     "execution_count": 12,
     "metadata": {},
     "output_type": "execute_result"
    }
   ],
   "source": [
    "n_arr.shape   #shape: returns in tuple\n"
   ]
  },
  {
   "cell_type": "code",
   "execution_count": 13,
   "id": "55900cef",
   "metadata": {},
   "outputs": [
    {
     "data": {
      "text/plain": [
       "(10,)"
      ]
     },
     "execution_count": 13,
     "metadata": {},
     "output_type": "execute_result"
    }
   ],
   "source": [
    "n_arr.shape   #shape: returns in tuple\n",
    "(10,)"
   ]
  },
  {
   "cell_type": "code",
   "execution_count": 14,
   "id": "1e1a7c1a",
   "metadata": {},
   "outputs": [
    {
     "data": {
      "text/plain": [
       "array([0.6369478 , 0.8461806 , 0.92844251, 0.09367267, 0.42237015,\n",
       "       0.84544694, 0.71481181, 0.29387779, 0.8829227 , 0.37207691])"
      ]
     },
     "execution_count": 14,
     "metadata": {},
     "output_type": "execute_result"
    }
   ],
   "source": [
    "n_arr"
   ]
  },
  {
   "cell_type": "code",
   "execution_count": 15,
   "id": "28b58e8b",
   "metadata": {},
   "outputs": [
    {
     "data": {
      "text/plain": [
       "(10,)"
      ]
     },
     "execution_count": 15,
     "metadata": {},
     "output_type": "execute_result"
    }
   ],
   "source": [
    "n_arr.shape"
   ]
  },
  {
   "cell_type": "code",
   "execution_count": 16,
   "id": "7d947ed0",
   "metadata": {},
   "outputs": [
    {
     "data": {
      "text/plain": [
       "1"
      ]
     },
     "execution_count": 16,
     "metadata": {},
     "output_type": "execute_result"
    }
   ],
   "source": [
    "n_arr.ndim"
   ]
  },
  {
   "cell_type": "code",
   "execution_count": 17,
   "id": "b4c5163b",
   "metadata": {},
   "outputs": [
    {
     "data": {
      "text/plain": [
       "1"
      ]
     },
     "execution_count": 17,
     "metadata": {},
     "output_type": "execute_result"
    }
   ],
   "source": [
    "len(n_arr.shape)"
   ]
  },
  {
   "cell_type": "code",
   "execution_count": 18,
   "id": "aa49efee",
   "metadata": {},
   "outputs": [
    {
     "data": {
      "text/plain": [
       "True"
      ]
     },
     "execution_count": 18,
     "metadata": {},
     "output_type": "execute_result"
    }
   ],
   "source": [
    "len(n_arr.shape) == n_arr.ndim"
   ]
  },
  {
   "cell_type": "code",
   "execution_count": 19,
   "id": "f918b507",
   "metadata": {},
   "outputs": [],
   "source": [
    "arr_3d = np.array([[[1,2,3],[4,5,6],[7,8,9]]])"
   ]
  },
  {
   "cell_type": "code",
   "execution_count": 20,
   "id": "cdd1ddbb",
   "metadata": {},
   "outputs": [
    {
     "data": {
      "text/plain": [
       "array([[[1, 2, 3],\n",
       "        [4, 5, 6],\n",
       "        [7, 8, 9]]])"
      ]
     },
     "execution_count": 20,
     "metadata": {},
     "output_type": "execute_result"
    }
   ],
   "source": [
    "arr_3d"
   ]
  },
  {
   "cell_type": "code",
   "execution_count": 21,
   "id": "eaa94d32",
   "metadata": {},
   "outputs": [
    {
     "data": {
      "text/plain": [
       "3"
      ]
     },
     "execution_count": 21,
     "metadata": {},
     "output_type": "execute_result"
    }
   ],
   "source": [
    "arr_3d.ndim"
   ]
  },
  {
   "cell_type": "code",
   "execution_count": 22,
   "id": "3c382b04",
   "metadata": {},
   "outputs": [
    {
     "data": {
      "text/plain": [
       "(1, 3, 3)"
      ]
     },
     "execution_count": 22,
     "metadata": {},
     "output_type": "execute_result"
    }
   ],
   "source": [
    "arr_3d.shape"
   ]
  },
  {
   "cell_type": "code",
   "execution_count": 23,
   "id": "9fe270a1",
   "metadata": {},
   "outputs": [
    {
     "name": "stdout",
     "output_type": "stream",
     "text": [
      "[0.26425541 0.69655831 0.11320205 0.64405558 0.85356586 0.18504338\n",
      " 0.29791529 0.63246974 0.66279571 0.94371086]\n"
     ]
    }
   ],
   "source": [
    "arr10 = np.random.random(10)\n",
    "print(arr10)"
   ]
  },
  {
   "cell_type": "code",
   "execution_count": 24,
   "id": "1acb9da8",
   "metadata": {},
   "outputs": [
    {
     "data": {
      "text/plain": [
       "array([0.55288076, 0.46990809, 0.86168559, 0.5687607 , 0.09588073,\n",
       "       0.50706638, 0.02176127, 0.93479023, 0.29148581, 0.65661521])"
      ]
     },
     "execution_count": 24,
     "metadata": {},
     "output_type": "execute_result"
    }
   ],
   "source": [
    "arr10 = np.random.rand(10)\n",
    "arr10"
   ]
  },
  {
   "cell_type": "code",
   "execution_count": 25,
   "id": "0618ea94",
   "metadata": {},
   "outputs": [
    {
     "data": {
      "text/plain": [
       "array([-0.32199179, -1.70048577, -1.27772085, -0.33339631, -0.09085034])"
      ]
     },
     "execution_count": 25,
     "metadata": {},
     "output_type": "execute_result"
    }
   ],
   "source": [
    "arr_with_nega = np.random.randn(5)\n",
    "arr_with_nega"
   ]
  },
  {
   "cell_type": "code",
   "execution_count": 26,
   "id": "b096cc60",
   "metadata": {},
   "outputs": [
    {
     "ename": "TypeError",
     "evalue": "random() takes at most 1 positional argument (2 given)",
     "output_type": "error",
     "traceback": [
      "\u001b[0;31m---------------------------------------------------------------------------\u001b[0m",
      "\u001b[0;31mTypeError\u001b[0m                                 Traceback (most recent call last)",
      "Input \u001b[0;32mIn [26]\u001b[0m, in \u001b[0;36m<cell line: 1>\u001b[0;34m()\u001b[0m\n\u001b[0;32m----> 1\u001b[0m random_25_arr \u001b[38;5;241m=\u001b[39m \u001b[43mnp\u001b[49m\u001b[38;5;241;43m.\u001b[39;49m\u001b[43mrandom\u001b[49m\u001b[38;5;241;43m.\u001b[39;49m\u001b[43mrandom\u001b[49m\u001b[43m(\u001b[49m\u001b[38;5;241;43m25\u001b[39;49m\u001b[43m,\u001b[49m\u001b[38;5;241;43m3\u001b[39;49m\u001b[43m)\u001b[49m\n",
      "File \u001b[0;32mmtrand.pyx:427\u001b[0m, in \u001b[0;36mnumpy.random.mtrand.RandomState.random\u001b[0;34m()\u001b[0m\n",
      "\u001b[0;31mTypeError\u001b[0m: random() takes at most 1 positional argument (2 given)"
     ]
    }
   ],
   "source": [
    "random_25_arr = np.random.random(25,3)"
   ]
  },
  {
   "cell_type": "code",
   "execution_count": null,
   "id": "7a17fb49",
   "metadata": {},
   "outputs": [],
   "source": [
    "random_25_arr = np.random.rand(25,3)"
   ]
  },
  {
   "cell_type": "code",
   "execution_count": null,
   "id": "35e94822",
   "metadata": {},
   "outputs": [],
   "source": [
    "random_25_arr"
   ]
  },
  {
   "cell_type": "code",
   "execution_count": 27,
   "id": "72fb43c9",
   "metadata": {},
   "outputs": [
    {
     "data": {
      "text/plain": [
       "(array([[ 1,  2,  3,  4],\n",
       "        [ 5,  6,  7,  8],\n",
       "        [ 9, 10, 11, 12]]),\n",
       " (3, 4))"
      ]
     },
     "execution_count": 27,
     "metadata": {},
     "output_type": "execute_result"
    }
   ],
   "source": [
    "work_on_index = np.array([[1,2,3,4],[5,6,7,8],[9,10,11,12]])\n",
    "work_on_index , work_on_index.shape"
   ]
  },
  {
   "cell_type": "code",
   "execution_count": 28,
   "id": "b066dd81",
   "metadata": {},
   "outputs": [
    {
     "data": {
      "text/plain": [
       "1"
      ]
     },
     "execution_count": 28,
     "metadata": {},
     "output_type": "execute_result"
    }
   ],
   "source": [
    "work_on_index[0][0]"
   ]
  },
  {
   "cell_type": "code",
   "execution_count": null,
   "id": "e23d588e",
   "metadata": {},
   "outputs": [],
   "source": [
    "work_on_index[0]"
   ]
  },
  {
   "cell_type": "code",
   "execution_count": null,
   "id": "5fed2cf2",
   "metadata": {},
   "outputs": [],
   "source": [
    "work_on_index[-1]"
   ]
  },
  {
   "cell_type": "code",
   "execution_count": null,
   "id": "8110c64c",
   "metadata": {},
   "outputs": [],
   "source": [
    "work_on_slice = work_on_index"
   ]
  },
  {
   "cell_type": "code",
   "execution_count": null,
   "id": "7706a9b7",
   "metadata": {},
   "outputs": [],
   "source": [
    "work_on_slice[0:2] "
   ]
  },
  {
   "cell_type": "code",
   "execution_count": null,
   "id": "64545e84",
   "metadata": {},
   "outputs": [],
   "source": [
    "work_on_slice[1:2,0:2] "
   ]
  },
  {
   "cell_type": "code",
   "execution_count": null,
   "id": "705e392b",
   "metadata": {},
   "outputs": [],
   "source": [
    "work_on_slice[[0,-1]]"
   ]
  },
  {
   "cell_type": "code",
   "execution_count": null,
   "id": "b03c7a69",
   "metadata": {},
   "outputs": [],
   "source": [
    "work_on_slice[0:,-1]"
   ]
  },
  {
   "cell_type": "code",
   "execution_count": null,
   "id": "8440e937",
   "metadata": {},
   "outputs": [],
   "source": [
    "work_on_slice[0::2,-1:] "
   ]
  },
  {
   "cell_type": "code",
   "execution_count": null,
   "id": "fe0827f1",
   "metadata": {},
   "outputs": [],
   "source": [
    "work_on_slice[0:3:2,0:-1:2]"
   ]
  },
  {
   "cell_type": "code",
   "execution_count": null,
   "id": "4b58343a",
   "metadata": {},
   "outputs": [],
   "source": [
    "work_on_slice"
   ]
  },
  {
   "cell_type": "code",
   "execution_count": null,
   "id": "58df231c",
   "metadata": {},
   "outputs": [],
   "source": [
    "two_dim_arr = np.array([[10,20,30,40],[50,60,70,80]])\n",
    "two_dim_arr"
   ]
  },
  {
   "cell_type": "code",
   "execution_count": null,
   "id": "365e58d9",
   "metadata": {},
   "outputs": [],
   "source": [
    "two_dim_arr.shape"
   ]
  },
  {
   "cell_type": "code",
   "execution_count": null,
   "id": "0df3d1a6",
   "metadata": {},
   "outputs": [],
   "source": [
    "two_dim_arr.T"
   ]
  },
  {
   "cell_type": "code",
   "execution_count": null,
   "id": "dc1515d1",
   "metadata": {},
   "outputs": [],
   "source": [
    "two_dim_arr.T.shape"
   ]
  },
  {
   "cell_type": "code",
   "execution_count": null,
   "id": "1ccef16f",
   "metadata": {},
   "outputs": [],
   "source": [
    "marks = [65,78,94,66,88,80,91]\n",
    "marks = np.array(marks)\n",
    "marks"
   ]
  },
  {
   "cell_type": "code",
   "execution_count": null,
   "id": "c4ad6f48",
   "metadata": {},
   "outputs": [],
   "source": [
    "mean = np.mean(marks)\n",
    "print(mean)"
   ]
  },
  {
   "cell_type": "code",
   "execution_count": null,
   "id": "b7d514ce",
   "metadata": {},
   "outputs": [],
   "source": [
    "alternative_mean = sum(marks)/len(marks)\n",
    "print(alternative_mean)"
   ]
  },
  {
   "cell_type": "code",
   "execution_count": null,
   "id": "f4a25f82",
   "metadata": {},
   "outputs": [],
   "source": [
    "median = np.median(marks)\n",
    "print(median)"
   ]
  },
  {
   "cell_type": "code",
   "execution_count": null,
   "id": "5cfaf42e",
   "metadata": {},
   "outputs": [],
   "source": [
    "marks.sort()\n",
    "alternative_median = marks[len(marks)//2]\n",
    "print(alternative_median)"
   ]
  },
  {
   "cell_type": "code",
   "execution_count": null,
   "id": "78e81478",
   "metadata": {},
   "outputs": [],
   "source": [
    "variance = np.var(marks)\n",
    "print(variance)"
   ]
  },
  {
   "cell_type": "code",
   "execution_count": null,
   "id": "c9e20efd",
   "metadata": {},
   "outputs": [],
   "source": [
    "sum = 0\n",
    "for i in marks:\n",
    "    sum += (i-marks.sum()/len(marks))**2\n",
    "\n",
    "alternative_variance = sum/len(marks)\n",
    "print(\"%.4f\"%alternative_variance)"
   ]
  },
  {
   "cell_type": "code",
   "execution_count": null,
   "id": "510c694c",
   "metadata": {},
   "outputs": [],
   "source": [
    "std_deviation = np.std(marks)\n",
    "print(std_deviation)"
   ]
  },
  {
   "cell_type": "code",
   "execution_count": null,
   "id": "73bc2912",
   "metadata": {},
   "outputs": [],
   "source": [
    "alternative_std = np.sqrt(alternative_variance)\n",
    "print(\"%.4f\"%alternative_std)"
   ]
  },
  {
   "cell_type": "code",
   "execution_count": null,
   "id": "9b56d67c",
   "metadata": {},
   "outputs": [],
   "source": [
    "distibution = np.linspace(0,100,5)\n",
    "distibution"
   ]
  },
  {
   "cell_type": "code",
   "execution_count": null,
   "id": "b9ecc8d4",
   "metadata": {},
   "outputs": [],
   "source": [
    "distibution = np.linspace(0,100,2)\n",
    "distibution"
   ]
  },
  {
   "cell_type": "code",
   "execution_count": null,
   "id": "936ceef0",
   "metadata": {},
   "outputs": [],
   "source": [
    "sum_arr_eg = np.array([[1,1,1],[2,2,2],[3,3,3],[4,4,4]])"
   ]
  },
  {
   "cell_type": "code",
   "execution_count": null,
   "id": "ecd2b59d",
   "metadata": {},
   "outputs": [],
   "source": [
    "sum_arr_eg"
   ]
  },
  {
   "cell_type": "code",
   "execution_count": null,
   "id": "826a0abd",
   "metadata": {},
   "outputs": [],
   "source": [
    "sum_arr_eg.sum() "
   ]
  },
  {
   "cell_type": "code",
   "execution_count": null,
   "id": "cffc3593",
   "metadata": {},
   "outputs": [],
   "source": [
    "sum_arr_eg.sum(axis=0)"
   ]
  },
  {
   "cell_type": "code",
   "execution_count": null,
   "id": "eb120403",
   "metadata": {},
   "outputs": [],
   "source": [
    "sum_arr_eg.sum(axis=1)"
   ]
  },
  {
   "cell_type": "code",
   "execution_count": null,
   "id": "ec1cf0fd",
   "metadata": {},
   "outputs": [],
   "source": [
    "w = np.random.rand(2,3) \n",
    "x = np.random.rand(3,1)\n",
    "w, x"
   ]
  },
  {
   "cell_type": "code",
   "execution_count": null,
   "id": "5daa0df2",
   "metadata": {},
   "outputs": [],
   "source": [
    "matrix_mul = np.matmul(w,x)\n",
    "matrix_mul"
   ]
  },
  {
   "cell_type": "code",
   "execution_count": null,
   "id": "e9f394ab",
   "metadata": {},
   "outputs": [],
   "source": [
    "matrix_mul.shape"
   ]
  },
  {
   "cell_type": "code",
   "execution_count": null,
   "id": "217e6705",
   "metadata": {},
   "outputs": [],
   "source": [
    "dot_product = np.dot(w,x)"
   ]
  },
  {
   "cell_type": "code",
   "execution_count": null,
   "id": "b9e8b24e",
   "metadata": {},
   "outputs": [],
   "source": [
    "np.exp(2)"
   ]
  },
  {
   "cell_type": "code",
   "execution_count": null,
   "id": "32468bfb",
   "metadata": {},
   "outputs": [],
   "source": [
    "y = 1.4\n",
    "m = 3\n",
    "c = 0.4\n",
    "z = y*m + c\n",
    "sigmoid = 1/(1+np.exp(-z))\n",
    "sigmoid"
   ]
  },
  {
   "cell_type": "code",
   "execution_count": null,
   "id": "1d75defa",
   "metadata": {},
   "outputs": [],
   "source": [
    "np.log(10)"
   ]
  },
  {
   "cell_type": "code",
   "execution_count": null,
   "id": "c89a629d",
   "metadata": {},
   "outputs": [],
   "source": [
    "np.log2(10)"
   ]
  },
  {
   "cell_type": "code",
   "execution_count": null,
   "id": "a5c0d0df",
   "metadata": {},
   "outputs": [],
   "source": [
    "np.log10(10)"
   ]
  }
 ],
 "metadata": {
  "kernelspec": {
   "display_name": "Python 3 (ipykernel)",
   "language": "python",
   "name": "python3"
  },
  "language_info": {
   "codemirror_mode": {
    "name": "ipython",
    "version": 3
   },
   "file_extension": ".py",
   "mimetype": "text/x-python",
   "name": "python",
   "nbconvert_exporter": "python",
   "pygments_lexer": "ipython3",
   "version": "3.10.4"
  }
 },
 "nbformat": 4,
 "nbformat_minor": 5
}
